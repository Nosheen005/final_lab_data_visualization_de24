{
 "cells": [
  {
   "cell_type": "code",
   "execution_count": 16,
   "id": "3c8aa6b6",
   "metadata": {},
   "outputs": [],
   "source": [
    "import pandas as pd\n",
    "\n",
    "df_table = pd.read_html(\"https://www.myh.se/yrkeshogskolan/ansok-om-att-bedriva-utbildning/ansokan-kurser/statsbidrag-och-schablonnivaer\")"
   ]
  },
  {
   "cell_type": "code",
   "execution_count": 21,
   "id": "ffb0d0b0",
   "metadata": {},
   "outputs": [],
   "source": [
    "df = df_table[0]"
   ]
  },
  {
   "cell_type": "code",
   "execution_count": 22,
   "id": "ab633bd9",
   "metadata": {},
   "outputs": [],
   "source": [
    "df.to_csv(\"statsbidrag_schablonnivåer_kr.csv\", index=False)\n"
   ]
  }
 ],
 "metadata": {
  "kernelspec": {
   "display_name": ".venv",
   "language": "python",
   "name": "python3"
  },
  "language_info": {
   "codemirror_mode": {
    "name": "ipython",
    "version": 3
   },
   "file_extension": ".py",
   "mimetype": "text/x-python",
   "name": "python",
   "nbconvert_exporter": "python",
   "pygments_lexer": "ipython3",
   "version": "3.12.5"
  }
 },
 "nbformat": 4,
 "nbformat_minor": 5
}
