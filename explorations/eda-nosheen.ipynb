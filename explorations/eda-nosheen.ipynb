{
 "cells": [
  {
   "cell_type": "code",
   "execution_count": 1,
   "metadata": {},
   "outputs": [],
   "source": [
    "\n",
    "import pandas as pd\n",
    "\n",
    "# Load course application data\n",
    "file_path = \"../data/course/inkomna-ansokningar-2024-for-kurser.xlsx\"\n",
    "df = pd.read_excel(file_path)\n",
    "\n",
    "\n"
   ]
  },
  {
   "cell_type": "code",
   "execution_count": 2,
   "metadata": {},
   "outputs": [
    {
     "data": {
      "text/html": [
       "<div>\n",
       "<style scoped>\n",
       "    .dataframe tbody tr th:only-of-type {\n",
       "        vertical-align: middle;\n",
       "    }\n",
       "\n",
       "    .dataframe tbody tr th {\n",
       "        vertical-align: top;\n",
       "    }\n",
       "\n",
       "    .dataframe thead th {\n",
       "        text-align: right;\n",
       "    }\n",
       "</style>\n",
       "<table border=\"1\" class=\"dataframe\">\n",
       "  <thead>\n",
       "    <tr style=\"text-align: right;\">\n",
       "      <th></th>\n",
       "      <th>Diarienummer</th>\n",
       "      <th>Anordnare namn</th>\n",
       "      <th>Utbildningsnamn</th>\n",
       "      <th>Sökt utbildningsområde</th>\n",
       "      <th>Sökt antal platser 2024</th>\n",
       "      <th>Sökt antal platser 2024 (start och avslut 2024)</th>\n",
       "      <th>Sökt antal platser 2025</th>\n",
       "      <th>YH-poäng</th>\n",
       "      <th>Kommun</th>\n",
       "      <th>Län</th>\n",
       "      <th>FA-region</th>\n",
       "      <th>Antal kommuner</th>\n",
       "      <th>Antal län</th>\n",
       "      <th>Antal FA-regioner</th>\n",
       "    </tr>\n",
       "  </thead>\n",
       "  <tbody>\n",
       "    <tr>\n",
       "      <th>0</th>\n",
       "      <td>MYH 2024/1000</td>\n",
       "      <td>Changemaker Educations AB</td>\n",
       "      <td>Futuregames Accessible Game Production</td>\n",
       "      <td>Data/IT</td>\n",
       "      <td>35</td>\n",
       "      <td>0</td>\n",
       "      <td>35</td>\n",
       "      <td>25</td>\n",
       "      <td>Se \"Lista flera kommuner\"</td>\n",
       "      <td>Se \"Lista flera kommuner\"</td>\n",
       "      <td>Se \"Lista flera kommuner\"</td>\n",
       "      <td>3</td>\n",
       "      <td>3</td>\n",
       "      <td>3</td>\n",
       "    </tr>\n",
       "    <tr>\n",
       "      <th>1</th>\n",
       "      <td>MYH 2024/1001</td>\n",
       "      <td>Changemaker Educations AB</td>\n",
       "      <td>Futuregames Inclusive Game Development</td>\n",
       "      <td>Data/IT</td>\n",
       "      <td>35</td>\n",
       "      <td>0</td>\n",
       "      <td>35</td>\n",
       "      <td>25</td>\n",
       "      <td>Se \"Lista flera kommuner\"</td>\n",
       "      <td>Se \"Lista flera kommuner\"</td>\n",
       "      <td>Se \"Lista flera kommuner\"</td>\n",
       "      <td>3</td>\n",
       "      <td>3</td>\n",
       "      <td>3</td>\n",
       "    </tr>\n",
       "    <tr>\n",
       "      <th>2</th>\n",
       "      <td>MYH 2024/1002</td>\n",
       "      <td>Båstads kommun Akademi Båstad</td>\n",
       "      <td>Ekosystemtjänster i praktiken</td>\n",
       "      <td>Lantbruk, djurvård, trädgård, skog och fiske</td>\n",
       "      <td>25</td>\n",
       "      <td>0</td>\n",
       "      <td>0</td>\n",
       "      <td>50</td>\n",
       "      <td>Båstad</td>\n",
       "      <td>Skåne</td>\n",
       "      <td>Malmö-Lund</td>\n",
       "      <td>1</td>\n",
       "      <td>1</td>\n",
       "      <td>1</td>\n",
       "    </tr>\n",
       "    <tr>\n",
       "      <th>3</th>\n",
       "      <td>MYH 2024/1003</td>\n",
       "      <td>Båstads kommun Akademi Båstad</td>\n",
       "      <td>Hållbar dagvattenhantering i praktiken</td>\n",
       "      <td>Lantbruk, djurvård, trädgård, skog och fiske</td>\n",
       "      <td>25</td>\n",
       "      <td>0</td>\n",
       "      <td>0</td>\n",
       "      <td>50</td>\n",
       "      <td>Båstad</td>\n",
       "      <td>Skåne</td>\n",
       "      <td>Malmö-Lund</td>\n",
       "      <td>1</td>\n",
       "      <td>1</td>\n",
       "      <td>1</td>\n",
       "    </tr>\n",
       "    <tr>\n",
       "      <th>4</th>\n",
       "      <td>MYH 2024/1004</td>\n",
       "      <td>Båstads kommun Akademi Båstad</td>\n",
       "      <td>Invasiva växter i utemiljöer</td>\n",
       "      <td>Lantbruk, djurvård, trädgård, skog och fiske</td>\n",
       "      <td>40</td>\n",
       "      <td>40</td>\n",
       "      <td>0</td>\n",
       "      <td>25</td>\n",
       "      <td>Båstad</td>\n",
       "      <td>Skåne</td>\n",
       "      <td>Malmö-Lund</td>\n",
       "      <td>1</td>\n",
       "      <td>1</td>\n",
       "      <td>1</td>\n",
       "    </tr>\n",
       "  </tbody>\n",
       "</table>\n",
       "</div>"
      ],
      "text/plain": [
       "    Diarienummer                 Anordnare namn  \\\n",
       "0  MYH 2024/1000      Changemaker Educations AB   \n",
       "1  MYH 2024/1001      Changemaker Educations AB   \n",
       "2  MYH 2024/1002  Båstads kommun Akademi Båstad   \n",
       "3  MYH 2024/1003  Båstads kommun Akademi Båstad   \n",
       "4  MYH 2024/1004  Båstads kommun Akademi Båstad   \n",
       "\n",
       "                           Utbildningsnamn  \\\n",
       "0  Futuregames Accessible Game Production    \n",
       "1   Futuregames Inclusive Game Development   \n",
       "2            Ekosystemtjänster i praktiken   \n",
       "3   Hållbar dagvattenhantering i praktiken   \n",
       "4             Invasiva växter i utemiljöer   \n",
       "\n",
       "                         Sökt utbildningsområde  Sökt antal platser 2024  \\\n",
       "0                                       Data/IT                       35   \n",
       "1                                       Data/IT                       35   \n",
       "2  Lantbruk, djurvård, trädgård, skog och fiske                       25   \n",
       "3  Lantbruk, djurvård, trädgård, skog och fiske                       25   \n",
       "4  Lantbruk, djurvård, trädgård, skog och fiske                       40   \n",
       "\n",
       "   Sökt antal platser 2024 (start och avslut 2024)  Sökt antal platser 2025  \\\n",
       "0                                                0                       35   \n",
       "1                                                0                       35   \n",
       "2                                                0                        0   \n",
       "3                                                0                        0   \n",
       "4                                               40                        0   \n",
       "\n",
       "   YH-poäng                     Kommun                        Län  \\\n",
       "0        25  Se \"Lista flera kommuner\"  Se \"Lista flera kommuner\"   \n",
       "1        25  Se \"Lista flera kommuner\"  Se \"Lista flera kommuner\"   \n",
       "2        50                     Båstad                      Skåne   \n",
       "3        50                     Båstad                      Skåne   \n",
       "4        25                     Båstad                      Skåne   \n",
       "\n",
       "                   FA-region  Antal kommuner  Antal län  Antal FA-regioner  \n",
       "0  Se \"Lista flera kommuner\"               3          3                  3  \n",
       "1  Se \"Lista flera kommuner\"               3          3                  3  \n",
       "2                 Malmö-Lund               1          1                  1  \n",
       "3                 Malmö-Lund               1          1                  1  \n",
       "4                 Malmö-Lund               1          1                  1  "
      ]
     },
     "execution_count": 2,
     "metadata": {},
     "output_type": "execute_result"
    }
   ],
   "source": [
    "df.head()"
   ]
  },
  {
   "cell_type": "markdown",
   "metadata": {},
   "source": [
    "# Number of application per field for study 2024"
   ]
  },
  {
   "cell_type": "code",
   "execution_count": 7,
   "metadata": {},
   "outputs": [
    {
     "data": {
      "image/png": "[encoded data removed]",
      "text/plain": [
       "<Figure size 1000x600 with 1 Axes>"
      ]
     },
     "metadata": {},
     "output_type": "display_data"
    }
   ],
   "source": [
    "import matplotlib.pyplot as plt\n",
    "import seaborn as sns\n",
    "\n",
    "plt.figure(figsize=(10, 6))\n",
    "sns.countplot(y=\"Sökt utbildningsområde\", data=df,\n",
    "              order=df[\"Sökt utbildningsområde\"].value_counts().index)\n",
    "plt.title(\"Number of Applications per Field of Study (Kurser 2024)\")\n",
    "plt.xlabel(\"Number of Courses\")\n",
    "plt.ylabel(\"Field of Study\")\n",
    "plt.tight_layout()\n",
    "plt.show()\n"
   ]
  },
  {
   "cell_type": "markdown",
   "metadata": {},
   "source": [
    "# Analyze course application data grouped by education providers"
   ]
  },
  {
   "cell_type": "code",
   "execution_count": 8,
   "metadata": {},
   "outputs": [
    {
     "data": {
      "text/html": [
       "<div>\n",
       "<style scoped>\n",
       "    .dataframe tbody tr th:only-of-type {\n",
       "        vertical-align: middle;\n",
       "    }\n",
       "\n",
       "    .dataframe tbody tr th {\n",
       "        vertical-align: top;\n",
       "    }\n",
       "\n",
       "    .dataframe thead th {\n",
       "        text-align: right;\n",
       "    }\n",
       "</style>\n",
       "<table border=\"1\" class=\"dataframe\">\n",
       "  <thead>\n",
       "    <tr style=\"text-align: right;\">\n",
       "      <th></th>\n",
       "      <th>Anordnare namn</th>\n",
       "      <th>Totalt antal platser</th>\n",
       "      <th>Antal kurser</th>\n",
       "      <th>Genomsnittliga YH-poäng</th>\n",
       "    </tr>\n",
       "  </thead>\n",
       "  <tbody>\n",
       "    <tr>\n",
       "      <th>159</th>\n",
       "      <td>YH Akademin AB</td>\n",
       "      <td>1500</td>\n",
       "      <td>45</td>\n",
       "      <td>42.555556</td>\n",
       "    </tr>\n",
       "    <tr>\n",
       "      <th>69</th>\n",
       "      <td>IHM Business School AB Göteborg</td>\n",
       "      <td>1450</td>\n",
       "      <td>30</td>\n",
       "      <td>44.500000</td>\n",
       "    </tr>\n",
       "    <tr>\n",
       "      <th>100</th>\n",
       "      <td>Medieinstitutet i Sverige AB</td>\n",
       "      <td>1047</td>\n",
       "      <td>23</td>\n",
       "      <td>36.739130</td>\n",
       "    </tr>\n",
       "    <tr>\n",
       "      <th>144</th>\n",
       "      <td>TUC Sweden AB - Yrkeshögskola</td>\n",
       "      <td>830</td>\n",
       "      <td>18</td>\n",
       "      <td>40.555556</td>\n",
       "    </tr>\n",
       "    <tr>\n",
       "      <th>105</th>\n",
       "      <td>Nackademin AB</td>\n",
       "      <td>671</td>\n",
       "      <td>18</td>\n",
       "      <td>26.111111</td>\n",
       "    </tr>\n",
       "    <tr>\n",
       "      <th>127</th>\n",
       "      <td>Stockholm School of Business</td>\n",
       "      <td>655</td>\n",
       "      <td>13</td>\n",
       "      <td>36.153846</td>\n",
       "    </tr>\n",
       "    <tr>\n",
       "      <th>48</th>\n",
       "      <td>Företagsuniversitetet AB</td>\n",
       "      <td>620</td>\n",
       "      <td>10</td>\n",
       "      <td>29.200000</td>\n",
       "    </tr>\n",
       "    <tr>\n",
       "      <th>6</th>\n",
       "      <td>Amsac AB</td>\n",
       "      <td>578</td>\n",
       "      <td>19</td>\n",
       "      <td>46.052632</td>\n",
       "    </tr>\n",
       "    <tr>\n",
       "      <th>82</th>\n",
       "      <td>KYH AB</td>\n",
       "      <td>562</td>\n",
       "      <td>16</td>\n",
       "      <td>24.062500</td>\n",
       "    </tr>\n",
       "    <tr>\n",
       "      <th>139</th>\n",
       "      <td>Sveriges Yrkeshögskola AB - Malmö Yrkeshögskola</td>\n",
       "      <td>560</td>\n",
       "      <td>8</td>\n",
       "      <td>73.750000</td>\n",
       "    </tr>\n",
       "  </tbody>\n",
       "</table>\n",
       "</div>"
      ],
      "text/plain": [
       "                                      Anordnare namn  Totalt antal platser  \\\n",
       "159                                   YH Akademin AB                  1500   \n",
       "69                   IHM Business School AB Göteborg                  1450   \n",
       "100                     Medieinstitutet i Sverige AB                  1047   \n",
       "144                    TUC Sweden AB - Yrkeshögskola                   830   \n",
       "105                                    Nackademin AB                   671   \n",
       "127                     Stockholm School of Business                   655   \n",
       "48                          Företagsuniversitetet AB                   620   \n",
       "6                                           Amsac AB                   578   \n",
       "82                                            KYH AB                   562   \n",
       "139  Sveriges Yrkeshögskola AB - Malmö Yrkeshögskola                   560   \n",
       "\n",
       "     Antal kurser  Genomsnittliga YH-poäng  \n",
       "159            45                42.555556  \n",
       "69             30                44.500000  \n",
       "100            23                36.739130  \n",
       "144            18                40.555556  \n",
       "105            18                26.111111  \n",
       "127            13                36.153846  \n",
       "48             10                29.200000  \n",
       "6              19                46.052632  \n",
       "82             16                24.062500  \n",
       "139             8                73.750000  "
      ]
     },
     "execution_count": 8,
     "metadata": {},
     "output_type": "execute_result"
    }
   ],
   "source": [
    "provider_stats = df.groupby(\"Anordnare namn\").agg({\n",
    "    \"Sökt antal platser 2024\": \"sum\",\n",
    "    \"Utbildningsnamn\": \"count\",\n",
    "    \"YH-poäng\": \"mean\"\n",
    "}).reset_index().rename(columns={\n",
    "    \"Utbildningsnamn\": \"Antal kurser\",\n",
    "    \"Sökt antal platser 2024\": \"Totalt antal platser\",\n",
    "    \"YH-poäng\": \"Genomsnittliga YH-poäng\"\n",
    "})\n",
    "\n",
    "provider_stats.sort_values(\"Totalt antal platser\", ascending=False).head(10)\n"
   ]
  },
  {
   "cell_type": "markdown",
   "metadata": {},
   "source": [
    "# Top 20 providers by applied seats 2024"
   ]
  },
  {
   "cell_type": "code",
   "execution_count": 9,
   "metadata": {},
   "outputs": [
    {
     "data": {
      "application/vnd.plotly.v1+json": {
       "config": {
        "plotlyServerURL": "https://plot.ly"
       },
       "data": [
        {
         "customdata": {
          "bdata": "AAAAAACARkByHMdxHEdFQAAAAAAAAD5AAAAAAABARkAAAAAAAAA3QE5vetObXkJAAAAAAAAAMkByHMdxHEdEQAAAAAAAADJAx3Ecx3EcOkAAAAAAAAAqQDuxEzuxE0JAAAAAAAAAJEAzMzMzMzM9QAAAAAAAADNAbCivobwGR0AAAAAAAAAwQAAAAAAAEDhAAAAAAAAAIEAAAAAAAHBSQAAAAAAAACRAAAAAAABARUAAAAAAAAAiQHIcx3Ecx0ZAAAAAAAAAOEBVVVVVVZU9QAAAAAAAACxAt23btm1bPkAAAAAAAAAwQAAAAAAAmEJAAAAAAAAAJkDpoosuumhCQAAAAAAAADBAAAAAAADQNkAAAAAAAAAiQI7jOI7jOEFAAAAAAAAAIkAcx3Ecx3FIQAAAAAAAACJAOY7jOI5jRUA=",
          "dtype": "f8",
          "shape": "20, 2"
         },
         "hovertemplate": "Anordnare namn=%{x}<br>Totalt antal platser=%{y}<br>Antal kurser=%{customdata[0]}<br>Genomsnittliga YH-poäng=%{customdata[1]}<extra></extra>",
         "legendgroup": "",
         "marker": {
          "color": "#636efa",
          "pattern": {
           "shape": ""
          }
         },
         "name": "",
         "orientation": "v",
         "showlegend": false,
         "textposition": "auto",
         "type": "bar",
         "x": [
          "YH Akademin AB",
          "IHM Business School AB Göteborg",
          "Medieinstitutet i Sverige AB",
          "TUC Sweden AB - Yrkeshögskola",
          "Nackademin AB",
          "Stockholm School of Business",
          "Företagsuniversitetet AB",
          "Amsac AB",
          "KYH AB",
          "Sveriges Yrkeshögskola AB - Malmö Yrkeshögskola",
          "Företagsekonomiska Institutet 1888 AB",
          "Plushögskolan AB - Vårdyrkeshögskolan",
          "Göteborgs Stad, Yrgo",
          "Lexicon Yrkeshögskola AB",
          "Folkuniversitetet - Stiftelsen Kursverksamheten vid Uppsala universitetet",
          "KompetensUtvecklingsInstitutet Sverige AB",
          "Stockholms stad, Frans Schartaus Handelsinstitut",
          "IT-Högskolan Sverige AB",
          "Stiftelsen Stockholms Tekniska Institut",
          "Technigo AB"
         ],
         "xaxis": "x",
         "y": {
          "bdata": "3AWqBRcEPgOfAo8CbAJCAjICMAL0Ae8B4gHRAcsBmgGGAYEBcgFoAQ==",
          "dtype": "i2"
         },
         "yaxis": "y"
        }
       ],
       "layout": {
        "barmode": "relative",
        "legend": {
         "tracegroupgap": 0
        },
        "template": {
         "data": {
          "bar": [
           {
            "error_x": {
             "color": "#2a3f5f"
            },
            "error_y": {
             "color": "#2a3f5f"
            },
            "marker": {
             "line": {
              "color": "#E5ECF6",
              "width": 0.5
             },
             "pattern": {
              "fillmode": "overlay",
              "size": 10,
              "solidity": 0.2
             }
            },
            "type": "bar"
           }
          ],
          "barpolar": [
           {
            "marker": {
             "line": {
              "color": "#E5ECF6",
              "width": 0.5
             },
             "pattern": {
              "fillmode": "overlay",
              "size": 10,
              "solidity": 0.2
             }
            },
            "type": "barpolar"
           }
          ],
          "carpet": [
           {
            "aaxis": {
             "endlinecolor": "#2a3f5f",
             "gridcolor": "white",
             "linecolor": "white",
             "minorgridcolor": "white",
             "startlinecolor": "#2a3f5f"
            },
            "baxis": {
             "endlinecolor": "#2a3f5f",
             "gridcolor": "white",
             "linecolor": "white",
             "minorgridcolor": "white",
             "startlinecolor": "#2a3f5f"
            },
            "type": "carpet"
           }
          ],
          "choropleth": [
           {
            "colorbar": {
             "outlinewidth": 0,
             "ticks": ""
            },
            "type": "choropleth"
           }
          ],
          "contour": [
           {
            "colorbar": {
             "outlinewidth": 0,
             "ticks": ""
            },
            "colorscale": [
             [
              0,
              "#0d0887"
             ],
             [
              0.1111111111111111,
              "#46039f"
             ],
             [
              0.2222222222222222,
              "#7201a8"
             ],
             [
              0.3333333333333333,
              "#9c179e"
             ],
             [
              0.4444444444444444,
              "#bd3786"
             ],
             [
              0.5555555555555556,
              "#d8576b"
             ],
             [
              0.6666666666666666,
              "#ed7953"
             ],
             [
              0.7777777777777778,
              "#fb9f3a"
             ],
             [
              0.8888888888888888,
              "#fdca26"
             ],
             [
              1,
              "#f0f921"
             ]
            ],
            "type": "contour"
           }
          ],
          "contourcarpet": [
           {
            "colorbar": {
             "outlinewidth": 0,
             "ticks": ""
            },
            "type": "contourcarpet"
           }
          ],
          "heatmap": [
           {
            "colorbar": {
             "outlinewidth": 0,
             "ticks": ""
            },
            "colorscale": [
             [
              0,
              "#0d0887"
             ],
             [
              0.1111111111111111,
              "#46039f"
             ],
             [
              0.2222222222222222,
              "#7201a8"
             ],
             [
              0.3333333333333333,
              "#9c179e"
             ],
             [
              0.4444444444444444,
              "#bd3786"
             ],
             [
              0.5555555555555556,
              "#d8576b"
             ],
             [
              0.6666666666666666,
              "#ed7953"
             ],
             [
              0.7777777777777778,
              "#fb9f3a"
             ],
             [
              0.8888888888888888,
              "#fdca26"
             ],
             [
              1,
              "#f0f921"
             ]
            ],
            "type": "heatmap"
           }
          ],
          "histogram": [
           {
            "marker": {
             "pattern": {
              "fillmode": "overlay",
              "size": 10,
              "solidity": 0.2
             }
            },
            "type": "histogram"
           }
          ],
          "histogram2d": [
           {
            "colorbar": {
             "outlinewidth": 0,
             "ticks": ""
            },
            "colorscale": [
             [
              0,
              "#0d0887"
             ],
             [
              0.1111111111111111,
              "#46039f"
             ],
             [
              0.2222222222222222,
              "#7201a8"
             ],
             [
              0.3333333333333333,
              "#9c179e"
             ],
             [
              0.4444444444444444,
              "#bd3786"
             ],
             [
              0.5555555555555556,
              "#d8576b"
             ],
             [
              0.6666666666666666,
              "#ed7953"
             ],
             [
              0.7777777777777778,
              "#fb9f3a"
             ],
             [
              0.8888888888888888,
              "#fdca26"
             ],
             [
              1,
              "#f0f921"
             ]
            ],
            "type": "histogram2d"
           }
          ],
          "histogram2dcontour": [
           {
            "colorbar": {
             "outlinewidth": 0,
             "ticks": ""
            },
            "colorscale": [
             [
              0,
              "#0d0887"
             ],
             [
              0.1111111111111111,
              "#46039f"
             ],
             [
              0.2222222222222222,
              "#7201a8"
             ],
             [
              0.3333333333333333,
              "#9c179e"
             ],
             [
              0.4444444444444444,
              "#bd3786"
             ],
             [
              0.5555555555555556,
              "#d8576b"
             ],
             [
              0.6666666666666666,
              "#ed7953"
             ],
             [
              0.7777777777777778,
              "#fb9f3a"
             ],
             [
              0.8888888888888888,
              "#fdca26"
             ],
             [
              1,
              "#f0f921"
             ]
            ],
            "type": "histogram2dcontour"
           }
          ],
          "mesh3d": [
           {
            "colorbar": {
             "outlinewidth": 0,
             "ticks": ""
            },
            "type": "mesh3d"
           }
          ],
          "parcoords": [
           {
            "line": {
             "colorbar": {
              "outlinewidth": 0,
              "ticks": ""
             }
            },
            "type": "parcoords"
           }
          ],
          "pie": [
           {
            "automargin": true,
            "type": "pie"
           }
          ],
          "scatter": [
           {
            "fillpattern": {
             "fillmode": "overlay",
             "size": 10,
             "solidity": 0.2
            },
            "type": "scatter"
           }
          ],
          "scatter3d": [
           {
            "line": {
             "colorbar": {
              "outlinewidth": 0,
              "ticks": ""
             }
            },
            "marker": {
             "colorbar": {
              "outlinewidth": 0,
              "ticks": ""
             }
            },
            "type": "scatter3d"
           }
          ],
          "scattercarpet": [
           {
            "marker": {
             "colorbar": {
              "outlinewidth": 0,
              "ticks": ""
             }
            },
            "type": "scattercarpet"
           }
          ],
          "scattergeo": [
           {
            "marker": {
             "colorbar": {
              "outlinewidth": 0,
              "ticks": ""
             }
            },
            "type": "scattergeo"
           }
          ],
          "scattergl": [
           {
            "marker": {
             "colorbar": {
              "outlinewidth": 0,
              "ticks": ""
             }
            },
            "type": "scattergl"
           }
          ],
          "scattermap": [
           {
            "marker": {
             "colorbar": {
              "outlinewidth": 0,
              "ticks": ""
             }
            },
            "type": "scattermap"
           }
          ],
          "scattermapbox": [
           {
            "marker": {
             "colorbar": {
              "outlinewidth": 0,
              "ticks": ""
             }
            },
            "type": "scattermapbox"
           }
          ],
          "scatterpolar": [
           {
            "marker": {
             "colorbar": {
              "outlinewidth": 0,
              "ticks": ""
             }
            },
            "type": "scatterpolar"
           }
          ],
          "scatterpolargl": [
           {
            "marker": {
             "colorbar": {
              "outlinewidth": 0,
              "ticks": ""
             }
            },
            "type": "scatterpolargl"
           }
          ],
          "scatterternary": [
           {
            "marker": {
             "colorbar": {
              "outlinewidth": 0,
              "ticks": ""
             }
            },
            "type": "scatterternary"
           }
          ],
          "surface": [
           {
            "colorbar": {
             "outlinewidth": 0,
             "ticks": ""
            },
            "colorscale": [
             [
              0,
              "#0d0887"
             ],
             [
              0.1111111111111111,
              "#46039f"
             ],
             [
              0.2222222222222222,
              "#7201a8"
             ],
             [
              0.3333333333333333,
              "#9c179e"
             ],
             [
              0.4444444444444444,
              "#bd3786"
             ],
             [
              0.5555555555555556,
              "#d8576b"
             ],
             [
              0.6666666666666666,
              "#ed7953"
             ],
             [
              0.7777777777777778,
              "#fb9f3a"
             ],
             [
              0.8888888888888888,
              "#fdca26"
             ],
             [
              1,
              "#f0f921"
             ]
            ],
            "type": "surface"
           }
          ],
          "table": [
           {
            "cells": {
             "fill": {
              "color": "#EBF0F8"
             },
             "line": {
              "color": "white"
             }
            },
            "header": {
             "fill": {
              "color": "#C8D4E3"
             },
             "line": {
              "color": "white"
             }
            },
            "type": "table"
           }
          ]
         },
         "layout": {
          "annotationdefaults": {
           "arrowcolor": "#2a3f5f",
           "arrowhead": 0,
           "arrowwidth": 1
          },
          "autotypenumbers": "strict",
          "coloraxis": {
           "colorbar": {
            "outlinewidth": 0,
            "ticks": ""
           }
          },
          "colorscale": {
           "diverging": [
            [
             0,
             "#8e0152"
            ],
            [
             0.1,
             "#c51b7d"
            ],
            [
             0.2,
             "#de77ae"
            ],
            [
             0.3,
             "#f1b6da"
            ],
            [
             0.4,
             "#fde0ef"
            ],
            [
             0.5,
             "#f7f7f7"
            ],
            [
             0.6,
             "#e6f5d0"
            ],
            [
             0.7,
             "#b8e186"
            ],
            [
             0.8,
             "#7fbc41"
            ],
            [
             0.9,
             "#4d9221"
            ],
            [
             1,
             "#276419"
            ]
           ],
           "sequential": [
            [
             0,
             "#0d0887"
            ],
            [
             0.1111111111111111,
             "#46039f"
            ],
            [
             0.2222222222222222,
             "#7201a8"
            ],
            [
             0.3333333333333333,
             "#9c179e"
            ],
            [
             0.4444444444444444,
             "#bd3786"
            ],
            [
             0.5555555555555556,
             "#d8576b"
            ],
            [
             0.6666666666666666,
             "#ed7953"
            ],
            [
             0.7777777777777778,
             "#fb9f3a"
            ],
            [
             0.8888888888888888,
             "#fdca26"
            ],
            [
             1,
             "#f0f921"
            ]
           ],
           "sequentialminus": [
            [
             0,
             "#0d0887"
            ],
            [
             0.1111111111111111,
             "#46039f"
            ],
            [
             0.2222222222222222,
             "#7201a8"
            ],
            [
             0.3333333333333333,
             "#9c179e"
            ],
            [
             0.4444444444444444,
             "#bd3786"
            ],
            [
             0.5555555555555556,
             "#d8576b"
            ],
            [
             0.6666666666666666,
             "#ed7953"
            ],
            [
             0.7777777777777778,
             "#fb9f3a"
            ],
            [
             0.8888888888888888,
             "#fdca26"
            ],
            [
             1,
             "#f0f921"
            ]
           ]
          },
          "colorway": [
           "#636efa",
           "#EF553B",
           "#00cc96",
           "#ab63fa",
           "#FFA15A",
           "#19d3f3",
           "#FF6692",
           "#B6E880",
           "#FF97FF",
           "#FECB52"
          ],
          "font": {
           "color": "#2a3f5f"
          },
          "geo": {
           "bgcolor": "white",
           "lakecolor": "white",
           "landcolor": "#E5ECF6",
           "showlakes": true,
           "showland": true,
           "subunitcolor": "white"
          },
          "hoverlabel": {
           "align": "left"
          },
          "hovermode": "closest",
          "mapbox": {
           "style": "light"
          },
          "paper_bgcolor": "white",
          "plot_bgcolor": "#E5ECF6",
          "polar": {
           "angularaxis": {
            "gridcolor": "white",
            "linecolor": "white",
            "ticks": ""
           },
           "bgcolor": "#E5ECF6",
           "radialaxis": {
            "gridcolor": "white",
            "linecolor": "white",
            "ticks": ""
           }
          },
          "scene": {
           "xaxis": {
            "backgroundcolor": "#E5ECF6",
            "gridcolor": "white",
            "gridwidth": 2,
            "linecolor": "white",
            "showbackground": true,
            "ticks": "",
            "zerolinecolor": "white"
           },
           "yaxis": {
            "backgroundcolor": "#E5ECF6",
            "gridcolor": "white",
            "gridwidth": 2,
            "linecolor": "white",
            "showbackground": true,
            "ticks": "",
            "zerolinecolor": "white"
           },
           "zaxis": {
            "backgroundcolor": "#E5ECF6",
            "gridcolor": "white",
            "gridwidth": 2,
            "linecolor": "white",
            "showbackground": true,
            "ticks": "",
            "zerolinecolor": "white"
           }
          },
          "shapedefaults": {
           "line": {
            "color": "#2a3f5f"
           }
          },
          "ternary": {
           "aaxis": {
            "gridcolor": "white",
            "linecolor": "white",
            "ticks": ""
           },
           "baxis": {
            "gridcolor": "white",
            "linecolor": "white",
            "ticks": ""
           },
           "bgcolor": "#E5ECF6",
           "caxis": {
            "gridcolor": "white",
            "linecolor": "white",
            "ticks": ""
           }
          },
          "title": {
           "x": 0.05
          },
          "xaxis": {
           "automargin": true,
           "gridcolor": "white",
           "linecolor": "white",
           "ticks": "",
           "title": {
            "standoff": 15
           },
           "zerolinecolor": "white",
           "zerolinewidth": 2
          },
          "yaxis": {
           "automargin": true,
           "gridcolor": "white",
           "linecolor": "white",
           "ticks": "",
           "title": {
            "standoff": 15
           },
           "zerolinecolor": "white",
           "zerolinewidth": 2
          }
         }
        },
        "title": {
         "text": "Top 20 Providers by Applied Seats (Kurser 2024)"
        },
        "xaxis": {
         "anchor": "y",
         "domain": [
          0,
          1
         ],
         "tickangle": -45,
         "title": {
          "text": "Anordnare namn"
         }
        },
        "yaxis": {
         "anchor": "x",
         "domain": [
          0,
          1
         ],
         "title": {
          "text": "Totalt antal platser"
         }
        }
       }
      }
     },
     "metadata": {},
     "output_type": "display_data"
    }
   ],
   "source": [
    "import plotly.express as px\n",
    "\n",
    "fig = px.bar(provider_stats.sort_values(\"Totalt antal platser\", ascending=False).head(20),\n",
    "             x=\"Anordnare namn\", y=\"Totalt antal platser\",\n",
    "             hover_data=[\"Antal kurser\", \"Genomsnittliga YH-poäng\"],\n",
    "             title=\"Top 20 Providers by Applied Seats (Kurser 2024)\")\n",
    "fig.update_layout(xaxis_tickangle=-45)\n",
    "fig.show()\n"
   ]
  },
  {
   "cell_type": "markdown",
   "metadata": {},
   "source": [
    " # applied places by region and provider course 2024\n"
   ]
  },
  {
   "cell_type": "code",
   "execution_count": 10,
   "metadata": {},
   "outputs": [
    {
     "data": {
      "application/vnd.plotly.v1+json": {
       "config": {
        "plotlyServerURL": "https://plot.ly"
       },
       "data": [
        {
         "branchvalues": "total",
         "domain": {
          "x": [
           0,
           1
          ],
          "y": [
           0,
           1
          ]
         },
         "hovertemplate": "labels=%{label}<br>Sökt antal platser 2024=%{value}<br>parent=%{parent}<br>id=%{id}<extra></extra>",
         "ids": [
          "Skåne/Båstad/Båstads kommun Akademi Båstad",
          "Stockholm/Stockholm/Stiftelsen Stockholms Tekniska Institut",
          "Västra Götaland/Göteborg/IHM Business School AB Göteborg",
          "Halland/Varberg/Campus Varberg/Varbergs kommun",
          "Västra Götaland/Skara/Västra Götalands läns landsting, Biologiska Yrkeshögskolan i Skara - BYS",
          "Gävleborg/Gävle/Plushögskolan AB - Affärshögskolan",
          "Stockholm/Solna/Nackademin AB",
          "Skåne/Landskrona/Landskrona Stad, Yrkeshögskolan Landskrona",
          "Skåne/Trelleborg/Trelleborgs kommun",
          "Blekinge/Karlskrona/Hyper Island Program AB - Karlskrona",
          "Västerbotten/Umeå/Folkuniversitetet – Kursverksamheten vid Umeå Universitet",
          "Jämtland/Ås/Torsta AB",
          "Västra Götaland/Västra Frölunda/Handelsakademin i Göteborg AB",
          "Norrbotten/Luleå/Handelsakademin i Göteborg AB",
          "Västernorrland/Sollefteå/Sollefteå kommun - Reveljen",
          "Kronoberg/Växjö/Region Kronoberg, YH Region Kronoberg",
          "Stockholm/Stockholm/Stockholms Internationella Handelsskola AB",
          "Skåne/Malmö/Handelsakademin i Göteborg AB",
          "Örebro/Örebro/LAVI gruppen AB",
          "Stockholm/Stockholm/Företagsuniversitetet AB",
          "Jönköping/Nässjö/YH Akademin AB",
          "Skåne/Malmö/Rädda Barnen Välfärd",
          "Norrbotten/Piteå/MedLearn AB",
          "Västmanland/Västerås/YH Akademin AB",
          "Skåne/Malmö/NBI i Sverige AB ",
          "Kronoberg/Älmhult/Älmhults kommun, Haganässkolan",
          "Örebro/Örebro/Nercia Utbildning",
          "Örebro/Askersund/Åsbro Kursgård AB",
          "Örebro/Hallsberg/Åsbro Kursgård AB",
          "Västra Götaland/Göteborg/Göteborgs Stad, Yrgo",
          "Stockholm/Kista/Amsac AB",
          "Stockholm/Botkyrka/Amsac AB",
          "Västra Götaland/Trollhättan/Nercia Utbildning",
          "Dalarna/Falun/Tension Education AB",
          "Stockholm/Stockholm/JENSEN Education School AB",
          "Skåne/Eslöv/Karlsson Climate AB",
          "Västra Götaland/Göteborg/IT-Högskolan Sverige AB",
          "Västra Götaland/Trollhättan/YH Akademin AB",
          "Västra Götaland/Borås/Borås Stad - Yrkeshögskolan i Borås",
          "Stockholm/Liljeholmen/KYH AB",
          "Skåne/Malmö/KYH AB",
          "Stockholm/Stockholm/Digitala lyftet i Sverige AB",
          "Västra Götaland/Göteborg/KYH AB",
          "Västra Götaland/Göteborg/Iterum Education AB",
          "Västerbotten/Vilhelmina/Vilhelmina kommun, Vilhelmina Lärcentrum",
          "Stockholm/Stockholm/Företagsekonomiska Institutet 1888 AB",
          "Västerbotten/Umeå/Lexicon Yrkeshögskola AB",
          "Östergötland/Norrköping/Östsvenska Yrkeshögskolan AB",
          "Västra Götaland/Mariestad/Mariestads kommun, Dacapo Mariestad",
          "Jönköping/Huskvarna/TUC Sweden AB - Yrkeshögskola",
          "Stockholm/Globen/YH Akademin(Marknad)",
          "Skåne/Kristianstad/Högskolan Kristianstad Uppdrag AB",
          "Västernorrland/Örnsköldsvik/YH Akademin AB",
          "Västra Götaland/Vänersborg/Kunskapsförbundet Väst, Vuxenutbildningen",
          "Uppsala/Uppsala/YH Akademin AB",
          "Stockholm/Stockholm/Lernia Utbildning AB",
          "Uppsala/Knivsta/YH Akademin AB",
          "Kalmar/Oskarshamn/Oskarshamns kommun, Nova Utbildning, FoU & Affärsutveckling",
          "Stockholm/Solna/Lexicon Yrkeshögskola AB",
          "Skåne/Rydebäck/Sundsgårdens folkhögskola",
          "Västernorrland/Örnsköldsvik/Lexicon Yrkeshögskola AB",
          "Norrbotten/Luleå/Almost There AB",
          "Södermanland/Nyköping/Campus Nyköping",
          "Jönköping/Gislaved/Gislaveds Kommun Vuxenutbildningen /Hph",
          "Stockholm/Tumba/Xenter Yrkeshögskola ",
          "Skåne/Lund/Plushögskolan AB - Teknikhögskolan",
          "Södermanland/Nyköping/INSU AB",
          "Västra Götaland/Mölndal/Gunnebo Slott och Trädgårdar AB",
          "Dalarna/Falun/Folkuniversitetet - Stiftelsen Kursverksamheten vid Uppsala universitetet",
          "Stockholm/Stockholm/Lexicon Yrkeshögskola AB",
          "Västerbotten/Skellefteå/Lexicon Yrkeshögskola AB",
          "Västra Götaland/Uddevalla/Uddevalla kommun, Uddevalla Yrkeshögskola",
          "Västernorrland/Härnösand/Härnösands kommun, Yrkeshögskolan",
          "Västra Götaland/Göteborg/Movant AB",
          "Västmanland/Västerås/Nercia Utbildning",
          "Västmanland/Västerås/Västerås Stad/Barn- och Utbildningsförvaltningen/Västerås Yrkeshögskola",
          "Östergötland/Linköping/Mölk Utbildning AB",
          "Uppsala/Enköping/Enköpings kommun, Yrkeshögskolan i Enköping",
          "Stockholm/Stockholm/ALEA Kompetenshöjning AB",
          "Örebro/Karlskoga/Karlskoga kommun",
          "Västra Götaland/Göteborg/Folkuniversitetet Kursverksamheten vid Göteborgs universitet",
          "Stockholm/Stockholm/John Ericsson Institutet",
          "Skåne/Malmö/Sveriges Yrkeshögskola AB - Malmö Yrkeshögskola",
          "Skåne/Malmö/John Ericsson Institutet",
          "Västra Götaland/Göteborg/John Ericsson Institutet",
          "Stockholm/Stockholm/Stockholm School of Business",
          "Skåne/Malmö/Stockholm School of Business",
          "Västra Götaland/Göteborg/Stockholm School of Business",
          "Stockholm/Stockholm/Stockholms Stadsmission",
          "Västra Götaland/Göteborg/Dans i Göteborg AB",
          "Västra Götaland/Mölndal/Yrkeshögskola Campus Mölndal",
          "Uppsala/Uppsala/Folkuniversitetet - Stiftelsen Kursverksamheten vid Uppsala universitetet",
          "Västra Götaland/Göteborg/Newton Kompetensutveckling AB",
          "Stockholm/Stockholm/Newton Kompetensutveckling AB",
          "Skåne/Malmö/Newton Kompetensutveckling AB",
          "Stockholm/Stockholm/Medieinstitutet i Sverige AB",
          "Västra Götaland/Lidköping/Lidköpings kommun Campus Lidköping",
          "Skåne/Simrishamn/Folkuniversitetet - Kursverksamheten vid Lunds Universitet",
          "Västmanland/Strömsholm/Sociala Tjänstehundar i Sverige AB/Svenska Terapihundskolan",
          "Skåne/Malmö/Sverigehälsan AB",
          "Västra Götaland/Skövde/Skövde kommun, Skövde Yrkeshögskola",
          "Västernorrland/Sundsvall/Edugrade AB",
          "Gävleborg/Hudiksvall/Edugrade AB",
          "Gävleborg/Gävle/Edugrade AB",
          "Västra Götaland/Göteborg/Folktandvården Västra Götalandsregionen, Tandsköterskeutbildningen",
          "Skåne/Helsingborg/NBI i Sverige AB ",
          "Stockholm/Stockholm/Stockholms stad, Frans Schartaus Handelsinstitut",
          "Västra Götaland/Angered/Finska folkhögskolans stiftelse",
          "Västra Götaland/Göteborg/Nätverkstan Kultur AB",
          "Skåne/Lund/Information & kompetensförsörjning i Sverige Aktiebolag",
          "Västernorrland/Örnsköldsvik/ITH, Institutet För Tillämpad Hydraulik",
          "Stockholm/Stockholm/TEC Travel Education Centre AB",
          "Värmland/Sunne/Sunne kommun/Brobygrafiska",
          "Gävleborg/Torsåker/Omsorgsförlaget",
          "Kronoberg/Växjö/Montico Kompetensutveckling AB",
          "Stockholm/Stockholm/IT-Högskolan Stockholm AB",
          "Skåne/Ljungbyhed/Klippans kommun, Flygteknikcenter",
          "Västmanland/Arboga/Arboga kommun, Vuxenutbildningen",
          "Skåne/Lund/Folkuniversitetet - Kursverksamheten vid Lunds Universitet",
          "Västra Götaland/Göteborg/Medieinstitutet i Sverige AB",
          "Stockholm/Bromma/Medieinstitutet i Sverige AB",
          "Stockholm/Stockholm/Elevera Education Group",
          "Kronoberg/Ljungby/Campus Ljungby AB",
          "Västra Götaland/Göteborg/Göteborgs Tekniska College AB",
          "Västra Götaland/Göteborg/Svenska Ledargruppen AB",
          "Stockholm/Stockholm/EdUP Group AB",
          "Västra Götaland/Borås/Stiftelsen PROTEKO - Nordiska Textilakademin",
          "Stockholm/Globen/Chas Academy AB",
          "Värmland/Filipstad/Bergsskolan Kompetensutveckling AB",
          "Halland/Falkenberg/Falkenbergs kommun",
          "Örebro/Örebro/Unestål Education",
          "Västra Götaland/Göteborg/ABF Göteborg Vuxenutbildning AB",
          "Västra Götaland/Göteborg/Step by Step Competence AB",
          "Stockholm/Stockholm/Stockholms Tillskärarakademi ",
          "Örebro/Örebro/Idéutvecklarna AB",
          "Kronoberg/Växjö/XeDrix AB",
          "Södermanland/Eskilstuna/AVT AB",
          "Stockholm/Stockholm/Kulturama",
          "Örebro/Örebro/Blue Peak AB",
          "Örebro/Örebro/Hermods AB Örebro",
          "Jönköping/Nässjö/Nässjö kommun, Nässjöakademin",
          "Kalmar/Broakulla/Eriksmåla Ridklubb",
          "Norrbotten/Boden/Almost There AB",
          "Stockholm/Stockholm/Medborgarskolan i Stockholm - Påhlmans Handelsinstitut ",
          "Stockholm/Stockholm/Funka Academy AB",
          "Västerbotten/Umeå/TCC Sverige AB",
          "Stockholm/Stockholm/Fordonsakademin Sverige AB",
          "Skåne/Malmö/Medieinstitutet i Sverige AB",
          "Västra Götaland/Göteborg/Ai Högskolan Sverige AB",
          "Stockholm/Skärholmen/Stockholms Trafiklärarutbildning",
          "Uppsala/Uppsala/ALEA Kompetenshöjning AB",
          "Stockholm/Stockholm/Svenska Trädmästarna AB",
          "Västra Götaland/Göteborg/Equine Academy Sweden AB",
          "Skåne/Malmö/WeWon Media Group AB",
          "Västra Götaland/Kungälv/Solarspect Sverige ab",
          "Stockholm/Stockholm/Hermods AB Stockholm",
          "Västerbotten/Umeå/Hermods AB Umeå",
          "Västra Götaland/Göteborg/Hermods AB Göteborg",
          "Skåne/Helsingborg/Hermods AB Helsingborg",
          "Skåne/Malmö/Hermods AB Malmö",
          "Jämtland/Östersund/Hermods AB Östersund",
          "Blekinge/Karlskrona/Hermods AB Karlskrona",
          "Stockholm/Jordbro/YH Akademin AB",
          "Skåne/Lund/Hermods AB Lund",
          "Stockholm/Solna/Hermods AB Stockholm",
          "Stockholm/Globen/YH Akademin AB",
          "Västra Götaland/Västra Frölunda/Fastighetsakademin Sverige AB",
          "Västra Götaland/Göteborg/Sälj & Marknadshögskolan i Sverige AB",
          "Västra Götaland/Mölnlycke/Härryda kommun, Yrkeshögskolan i Mölnlycke",
          "Jönköping/Jönköping/Kunskapsgruppen Yrkeshögskola Sverige AB",
          "Västra Götaland/Göteborg/Kunskapsgruppen Yrkeshögskola Sverige AB",
          "Stockholm/Solna/Sälj & Marknadshögskolan i Sverige AB",
          "Stockholm/Nynäshamn/Campus Nynäshamn",
          "Västra Götaland/Göteborg/YH Akademin AB",
          "Skåne/Helsingborg/YH Akademin(Marknad)",
          "Västra Götaland/Svenljunga/Västra Götalands läns landsting, Biologiska Yrkeshögskolan i Skara - BYS",
          "Skåne/Malmö/Grit Academy",
          "Stockholm/Stockholm/JAG Utbildning AB",
          "Värmland/Arvika/Arvika Kommun",
          "Skåne/Helsingborg/YH Akademin AB",
          "Västerbotten/Skellefteå/MedLearn AB",
          "Stockholm/Stockholm/MedLearn AB",
          "Värmland/Karlstad/MedLearn AB",
          "Västerbotten/Umeå/MedLearn AB",
          "Norrbotten/Jokkmokk/Iris Hadar AB",
          "Norrbotten/Luleå/Iris Hadar AB",
          "Skåne/Lund/Iris Hadar AB",
          "Örebro/Örebro/EC Utbildning AB Örebro",
          "Skåne/Malmö/EC Utbildning AB Malmö",
          "Västra Götaland/Göteborg/EC Utbildning AB Göteborg",
          "Stockholm/Solna/EC Utbildning AB Stockholm",
          "Kalmar/Färjestaden/Stiftelsen Capellagården",
          "Jönköping/Värnamo/Tekniska Högskolan i Jönköping AB",
          "Stockholm/Stockholm/EC Utbildning AB Stockholm",
          "Stockholm/Stockholm/IHM Business School AB Göteborg",
          "Skåne/Malmö/Malmö Tillskärarakademi AB",
          "Skåne/Malmö/IHM Business School AB Göteborg",
          "Stockholm/Järna/Värna Ideell Förening",
          "Skåne/Malmö/YH Akademin AB",
          "Västernorrland/Sundsvall/YH Akademin AB",
          "Stockholm/Järfälla/YH Akademin AB",
          "Örebro/Örebro/YH Akademin AB",
          "Jönköping/Habo/Yrkesutbildaren Habo AB                     ",
          "Östergötland/Norrköping/East Sweden Business School AB",
          "Västmanland/Västerås/AGSTU AB",
          "Södermanland/Katrineholm/INSU AB",
          "Gävleborg/Gävle/Folkuniversitetet - Stiftelsen Kursverksamheten vid Uppsala universitetet",
          "Stockholm/Stockholm/Hyper Island Program AB - Stockholm",
          "Skåne/Båstad",
          "Stockholm/Stockholm",
          "Västra Götaland/Göteborg",
          "Halland/Varberg",
          "Västra Götaland/Skara",
          "Gävleborg/Gävle",
          "Stockholm/Solna",
          "Skåne/Landskrona",
          "Skåne/Trelleborg",
          "Blekinge/Karlskrona",
          "Västerbotten/Umeå",
          "Jämtland/Ås",
          "Västra Götaland/Västra Frölunda",
          "Norrbotten/Luleå",
          "Västernorrland/Sollefteå",
          "Kronoberg/Växjö",
          "Skåne/Malmö",
          "Örebro/Örebro",
          "Jönköping/Nässjö",
          "Norrbotten/Piteå",
          "Västmanland/Västerås",
          "Kronoberg/Älmhult",
          "Örebro/Askersund",
          "Örebro/Hallsberg",
          "Stockholm/Kista",
          "Stockholm/Botkyrka",
          "Västra Götaland/Trollhättan",
          "Dalarna/Falun",
          "Skåne/Eslöv",
          "Västra Götaland/Borås",
          "Stockholm/Liljeholmen",
          "Västerbotten/Vilhelmina",
          "Östergötland/Norrköping",
          "Västra Götaland/Mariestad",
          "Jönköping/Huskvarna",
          "Stockholm/Globen",
          "Skåne/Kristianstad",
          "Västernorrland/Örnsköldsvik",
          "Västra Götaland/Vänersborg",
          "Uppsala/Uppsala",
          "Uppsala/Knivsta",
          "Kalmar/Oskarshamn",
          "Skåne/Rydebäck",
          "Södermanland/Nyköping",
          "Jönköping/Gislaved",
          "Stockholm/Tumba",
          "Skåne/Lund",
          "Västra Götaland/Mölndal",
          "Västerbotten/Skellefteå",
          "Västra Götaland/Uddevalla",
          "Västernorrland/Härnösand",
          "Östergötland/Linköping",
          "Uppsala/Enköping",
          "Örebro/Karlskoga",
          "Västra Götaland/Lidköping",
          "Skåne/Simrishamn",
          "Västmanland/Strömsholm",
          "Västra Götaland/Skövde",
          "Västernorrland/Sundsvall",
          "Gävleborg/Hudiksvall",
          "Skåne/Helsingborg",
          "Västra Götaland/Angered",
          "Värmland/Sunne",
          "Gävleborg/Torsåker",
          "Skåne/Ljungbyhed",
          "Västmanland/Arboga",
          "Stockholm/Bromma",
          "Kronoberg/Ljungby",
          "Värmland/Filipstad",
          "Halland/Falkenberg",
          "Södermanland/Eskilstuna",
          "Kalmar/Broakulla",
          "Norrbotten/Boden",
          "Stockholm/Skärholmen",
          "Västra Götaland/Kungälv",
          "Jämtland/Östersund",
          "Stockholm/Jordbro",
          "Västra Götaland/Mölnlycke",
          "Jönköping/Jönköping",
          "Stockholm/Nynäshamn",
          "Västra Götaland/Svenljunga",
          "Värmland/Arvika",
          "Värmland/Karlstad",
          "Norrbotten/Jokkmokk",
          "Kalmar/Färjestaden",
          "Jönköping/Värnamo",
          "Stockholm/Järna",
          "Stockholm/Järfälla",
          "Jönköping/Habo",
          "Södermanland/Katrineholm",
          "Skåne",
          "Stockholm",
          "Västra Götaland",
          "Halland",
          "Gävleborg",
          "Blekinge",
          "Västerbotten",
          "Jämtland",
          "Norrbotten",
          "Västernorrland",
          "Kronoberg",
          "Örebro",
          "Jönköping",
          "Västmanland",
          "Dalarna",
          "Östergötland",
          "Uppsala",
          "Kalmar",
          "Södermanland",
          "Värmland"
         ],
         "labels": [
          "Båstads kommun Akademi Båstad",
          "Stiftelsen Stockholms Tekniska Institut",
          "IHM Business School AB Göteborg",
          "Campus Varberg/Varbergs kommun",
          "Västra Götalands läns landsting, Biologiska Yrkeshögskolan i Skara - BYS",
          "Plushögskolan AB - Affärshögskolan",
          "Nackademin AB",
          "Landskrona Stad, Yrkeshögskolan Landskrona",
          "Trelleborgs kommun",
          "Hyper Island Program AB - Karlskrona",
          "Folkuniversitetet – Kursverksamheten vid Umeå Universitet",
          "Torsta AB",
          "Handelsakademin i Göteborg AB",
          "Handelsakademin i Göteborg AB",
          "Sollefteå kommun - Reveljen",
          "Region Kronoberg, YH Region Kronoberg",
          "Stockholms Internationella Handelsskola AB",
          "Handelsakademin i Göteborg AB",
          "LAVI gruppen AB",
          "Företagsuniversitetet AB",
          "YH Akademin AB",
          "Rädda Barnen Välfärd",
          "MedLearn AB",
          "YH Akademin AB",
          "NBI i Sverige AB ",
          "Älmhults kommun, Haganässkolan",
          "Nercia Utbildning",
          "Åsbro Kursgård AB",
          "Åsbro Kursgård AB",
          "Göteborgs Stad, Yrgo",
          "Amsac AB",
          "Amsac AB",
          "Nercia Utbildning",
          "Tension Education AB",
          "JENSEN Education School AB",
          "Karlsson Climate AB",
          "IT-Högskolan Sverige AB",
          "YH Akademin AB",
          "Borås Stad - Yrkeshögskolan i Borås",
          "KYH AB",
          "KYH AB",
          "Digitala lyftet i Sverige AB",
          "KYH AB",
          "Iterum Education AB",
          "Vilhelmina kommun, Vilhelmina Lärcentrum",
          "Företagsekonomiska Institutet 1888 AB",
          "Lexicon Yrkeshögskola AB",
          "Östsvenska Yrkeshögskolan AB",
          "Mariestads kommun, Dacapo Mariestad",
          "TUC Sweden AB - Yrkeshögskola",
          "YH Akademin(Marknad)",
          "Högskolan Kristianstad Uppdrag AB",
          "YH Akademin AB",
          "Kunskapsförbundet Väst, Vuxenutbildningen",
          "YH Akademin AB",
          "Lernia Utbildning AB",
          "YH Akademin AB",
          "Oskarshamns kommun, Nova Utbildning, FoU & Affärsutveckling",
          "Lexicon Yrkeshögskola AB",
          "Sundsgårdens folkhögskola",
          "Lexicon Yrkeshögskola AB",
          "Almost There AB",
          "Campus Nyköping",
          "Gislaveds Kommun Vuxenutbildningen /Hph",
          "Xenter Yrkeshögskola ",
          "Plushögskolan AB - Teknikhögskolan",
          "INSU AB",
          "Gunnebo Slott och Trädgårdar AB",
          "Folkuniversitetet - Stiftelsen Kursverksamheten vid Uppsala universitetet",
          "Lexicon Yrkeshögskola AB",
          "Lexicon Yrkeshögskola AB",
          "Uddevalla kommun, Uddevalla Yrkeshögskola",
          "Härnösands kommun, Yrkeshögskolan",
          "Movant AB",
          "Nercia Utbildning",
          "Västerås Stad/Barn- och Utbildningsförvaltningen/Västerås Yrkeshögskola",
          "Mölk Utbildning AB",
          "Enköpings kommun, Yrkeshögskolan i Enköping",
          "ALEA Kompetenshöjning AB",
          "Karlskoga kommun",
          "Folkuniversitetet Kursverksamheten vid Göteborgs universitet",
          "John Ericsson Institutet",
          "Sveriges Yrkeshögskola AB - Malmö Yrkeshögskola",
          "John Ericsson Institutet",
          "John Ericsson Institutet",
          "Stockholm School of Business",
          "Stockholm School of Business",
          "Stockholm School of Business",
          "Stockholms Stadsmission",
          "Dans i Göteborg AB",
          "Yrkeshögskola Campus Mölndal",
          "Folkuniversitetet - Stiftelsen Kursverksamheten vid Uppsala universitetet",
          "Newton Kompetensutveckling AB",
          "Newton Kompetensutveckling AB",
          "Newton Kompetensutveckling AB",
          "Medieinstitutet i Sverige AB",
          "Lidköpings kommun Campus Lidköping",
          "Folkuniversitetet - Kursverksamheten vid Lunds Universitet",
          "Sociala Tjänstehundar i Sverige AB/Svenska Terapihundskolan",
          "Sverigehälsan AB",
          "Skövde kommun, Skövde Yrkeshögskola",
          "Edugrade AB",
          "Edugrade AB",
          "Edugrade AB",
          "Folktandvården Västra Götalandsregionen, Tandsköterskeutbildningen",
          "NBI i Sverige AB ",
          "Stockholms stad, Frans Schartaus Handelsinstitut",
          "Finska folkhögskolans stiftelse",
          "Nätverkstan Kultur AB",
          "Information & kompetensförsörjning i Sverige Aktiebolag",
          "ITH, Institutet För Tillämpad Hydraulik",
          "TEC Travel Education Centre AB",
          "Sunne kommun/Brobygrafiska",
          "Omsorgsförlaget",
          "Montico Kompetensutveckling AB",
          "IT-Högskolan Stockholm AB",
          "Klippans kommun, Flygteknikcenter",
          "Arboga kommun, Vuxenutbildningen",
          "Folkuniversitetet - Kursverksamheten vid Lunds Universitet",
          "Medieinstitutet i Sverige AB",
          "Medieinstitutet i Sverige AB",
          "Elevera Education Group",
          "Campus Ljungby AB",
          "Göteborgs Tekniska College AB",
          "Svenska Ledargruppen AB",
          "EdUP Group AB",
          "Stiftelsen PROTEKO - Nordiska Textilakademin",
          "Chas Academy AB",
          "Bergsskolan Kompetensutveckling AB",
          "Falkenbergs kommun",
          "Unestål Education",
          "ABF Göteborg Vuxenutbildning AB",
          "Step by Step Competence AB",
          "Stockholms Tillskärarakademi ",
          "Idéutvecklarna AB",
          "XeDrix AB",
          "AVT AB",
          "Kulturama",
          "Blue Peak AB",
          "Hermods AB Örebro",
          "Nässjö kommun, Nässjöakademin",
          "Eriksmåla Ridklubb",
          "Almost There AB",
          "Medborgarskolan i Stockholm - Påhlmans Handelsinstitut ",
          "Funka Academy AB",
          "TCC Sverige AB",
          "Fordonsakademin Sverige AB",
          "Medieinstitutet i Sverige AB",
          "Ai Högskolan Sverige AB",
          "Stockholms Trafiklärarutbildning",
          "ALEA Kompetenshöjning AB",
          "Svenska Trädmästarna AB",
          "Equine Academy Sweden AB",
          "WeWon Media Group AB",
          "Solarspect Sverige ab",
          "Hermods AB Stockholm",
          "Hermods AB Umeå",
          "Hermods AB Göteborg",
          "Hermods AB Helsingborg",
          "Hermods AB Malmö",
          "Hermods AB Östersund",
          "Hermods AB Karlskrona",
          "YH Akademin AB",
          "Hermods AB Lund",
          "Hermods AB Stockholm",
          "YH Akademin AB",
          "Fastighetsakademin Sverige AB",
          "Sälj & Marknadshögskolan i Sverige AB",
          "Härryda kommun, Yrkeshögskolan i Mölnlycke",
          "Kunskapsgruppen Yrkeshögskola Sverige AB",
          "Kunskapsgruppen Yrkeshögskola Sverige AB",
          "Sälj & Marknadshögskolan i Sverige AB",
          "Campus Nynäshamn",
          "YH Akademin AB",
          "YH Akademin(Marknad)",
          "Västra Götalands läns landsting, Biologiska Yrkeshögskolan i Skara - BYS",
          "Grit Academy",
          "JAG Utbildning AB",
          "Arvika Kommun",
          "YH Akademin AB",
          "MedLearn AB",
          "MedLearn AB",
          "MedLearn AB",
          "MedLearn AB",
          "Iris Hadar AB",
          "Iris Hadar AB",
          "Iris Hadar AB",
          "EC Utbildning AB Örebro",
          "EC Utbildning AB Malmö",
          "EC Utbildning AB Göteborg",
          "EC Utbildning AB Stockholm",
          "Stiftelsen Capellagården",
          "Tekniska Högskolan i Jönköping AB",
          "EC Utbildning AB Stockholm",
          "IHM Business School AB Göteborg",
          "Malmö Tillskärarakademi AB",
          "IHM Business School AB Göteborg",
          "Värna Ideell Förening",
          "YH Akademin AB",
          "YH Akademin AB",
          "YH Akademin AB",
          "YH Akademin AB",
          "Yrkesutbildaren Habo AB                     ",
          "East Sweden Business School AB",
          "AGSTU AB",
          "INSU AB",
          "Folkuniversitetet - Stiftelsen Kursverksamheten vid Uppsala universitetet",
          "Hyper Island Program AB - Stockholm",
          "Båstad",
          "Stockholm",
          "Göteborg",
          "Varberg",
          "Skara",
          "Gävle",
          "Solna",
          "Landskrona",
          "Trelleborg",
          "Karlskrona",
          "Umeå",
          "Ås",
          "Västra Frölunda",
          "Luleå",
          "Sollefteå",
          "Växjö",
          "Malmö",
          "Örebro",
          "Nässjö",
          "Piteå",
          "Västerås",
          "Älmhult",
          "Askersund",
          "Hallsberg",
          "Kista",
          "Botkyrka",
          "Trollhättan",
          "Falun",
          "Eslöv",
          "Borås",
          "Liljeholmen",
          "Vilhelmina",
          "Norrköping",
          "Mariestad",
          "Huskvarna",
          "Globen",
          "Kristianstad",
          "Örnsköldsvik",
          "Vänersborg",
          "Uppsala",
          "Knivsta",
          "Oskarshamn",
          "Rydebäck",
          "Nyköping",
          "Gislaved",
          "Tumba",
          "Lund",
          "Mölndal",
          "Skellefteå",
          "Uddevalla",
          "Härnösand",
          "Linköping",
          "Enköping",
          "Karlskoga",
          "Lidköping",
          "Simrishamn",
          "Strömsholm",
          "Skövde",
          "Sundsvall",
          "Hudiksvall",
          "Helsingborg",
          "Angered",
          "Sunne",
          "Torsåker",
          "Ljungbyhed",
          "Arboga",
          "Bromma",
          "Ljungby",
          "Filipstad",
          "Falkenberg",
          "Eskilstuna",
          "Broakulla",
          "Boden",
          "Skärholmen",
          "Kungälv",
          "Östersund",
          "Jordbro",
          "Mölnlycke",
          "Jönköping",
          "Nynäshamn",
          "Svenljunga",
          "Arvika",
          "Karlstad",
          "Jokkmokk",
          "Färjestaden",
          "Värnamo",
          "Järna",
          "Järfälla",
          "Habo",
          "Katrineholm",
          "Skåne",
          "Stockholm",
          "Västra Götaland",
          "Halland",
          "Gävleborg",
          "Blekinge",
          "Västerbotten",
          "Jämtland",
          "Norrbotten",
          "Västernorrland",
          "Kronoberg",
          "Örebro",
          "Jönköping",
          "Västmanland",
          "Dalarna",
          "Östergötland",
          "Uppsala",
          "Kalmar",
          "Södermanland",
          "Värmland"
         ],
         "name": "",
         "parents": [
          "Skåne/Båstad",
          "Stockholm/Stockholm",
          "Västra Götaland/Göteborg",
          "Halland/Varberg",
          "Västra Götaland/Skara",
          "Gävleborg/Gävle",
          "Stockholm/Solna",
          "Skåne/Landskrona",
          "Skåne/Trelleborg",
          "Blekinge/Karlskrona",
          "Västerbotten/Umeå",
          "Jämtland/Ås",
          "Västra Götaland/Västra Frölunda",
          "Norrbotten/Luleå",
          "Västernorrland/Sollefteå",
          "Kronoberg/Växjö",
          "Stockholm/Stockholm",
          "Skåne/Malmö",
          "Örebro/Örebro",
          "Stockholm/Stockholm",
          "Jönköping/Nässjö",
          "Skåne/Malmö",
          "Norrbotten/Piteå",
          "Västmanland/Västerås",
          "Skåne/Malmö",
          "Kronoberg/Älmhult",
          "Örebro/Örebro",
          "Örebro/Askersund",
          "Örebro/Hallsberg",
          "Västra Götaland/Göteborg",
          "Stockholm/Kista",
          "Stockholm/Botkyrka",
          "Västra Götaland/Trollhättan",
          "Dalarna/Falun",
          "Stockholm/Stockholm",
          "Skåne/Eslöv",
          "Västra Götaland/Göteborg",
          "Västra Götaland/Trollhättan",
          "Västra Götaland/Borås",
          "Stockholm/Liljeholmen",
          "Skåne/Malmö",
          "Stockholm/Stockholm",
          "Västra Götaland/Göteborg",
          "Västra Götaland/Göteborg",
          "Västerbotten/Vilhelmina",
          "Stockholm/Stockholm",
          "Västerbotten/Umeå",
          "Östergötland/Norrköping",
          "Västra Götaland/Mariestad",
          "Jönköping/Huskvarna",
          "Stockholm/Globen",
          "Skåne/Kristianstad",
          "Västernorrland/Örnsköldsvik",
          "Västra Götaland/Vänersborg",
          "Uppsala/Uppsala",
          "Stockholm/Stockholm",
          "Uppsala/Knivsta",
          "Kalmar/Oskarshamn",
          "Stockholm/Solna",
          "Skåne/Rydebäck",
          "Västernorrland/Örnsköldsvik",
          "Norrbotten/Luleå",
          "Södermanland/Nyköping",
          "Jönköping/Gislaved",
          "Stockholm/Tumba",
          "Skåne/Lund",
          "Södermanland/Nyköping",
          "Västra Götaland/Mölndal",
          "Dalarna/Falun",
          "Stockholm/Stockholm",
          "Västerbotten/Skellefteå",
          "Västra Götaland/Uddevalla",
          "Västernorrland/Härnösand",
          "Västra Götaland/Göteborg",
          "Västmanland/Västerås",
          "Västmanland/Västerås",
          "Östergötland/Linköping",
          "Uppsala/Enköping",
          "Stockholm/Stockholm",
          "Örebro/Karlskoga",
          "Västra Götaland/Göteborg",
          "Stockholm/Stockholm",
          "Skåne/Malmö",
          "Skåne/Malmö",
          "Västra Götaland/Göteborg",
          "Stockholm/Stockholm",
          "Skåne/Malmö",
          "Västra Götaland/Göteborg",
          "Stockholm/Stockholm",
          "Västra Götaland/Göteborg",
          "Västra Götaland/Mölndal",
          "Uppsala/Uppsala",
          "Västra Götaland/Göteborg",
          "Stockholm/Stockholm",
          "Skåne/Malmö",
          "Stockholm/Stockholm",
          "Västra Götaland/Lidköping",
          "Skåne/Simrishamn",
          "Västmanland/Strömsholm",
          "Skåne/Malmö",
          "Västra Götaland/Skövde",
          "Västernorrland/Sundsvall",
          "Gävleborg/Hudiksvall",
          "Gävleborg/Gävle",
          "Västra Götaland/Göteborg",
          "Skåne/Helsingborg",
          "Stockholm/Stockholm",
          "Västra Götaland/Angered",
          "Västra Götaland/Göteborg",
          "Skåne/Lund",
          "Västernorrland/Örnsköldsvik",
          "Stockholm/Stockholm",
          "Värmland/Sunne",
          "Gävleborg/Torsåker",
          "Kronoberg/Växjö",
          "Stockholm/Stockholm",
          "Skåne/Ljungbyhed",
          "Västmanland/Arboga",
          "Skåne/Lund",
          "Västra Götaland/Göteborg",
          "Stockholm/Bromma",
          "Stockholm/Stockholm",
          "Kronoberg/Ljungby",
          "Västra Götaland/Göteborg",
          "Västra Götaland/Göteborg",
          "Stockholm/Stockholm",
          "Västra Götaland/Borås",
          "Stockholm/Globen",
          "Värmland/Filipstad",
          "Halland/Falkenberg",
          "Örebro/Örebro",
          "Västra Götaland/Göteborg",
          "Västra Götaland/Göteborg",
          "Stockholm/Stockholm",
          "Örebro/Örebro",
          "Kronoberg/Växjö",
          "Södermanland/Eskilstuna",
          "Stockholm/Stockholm",
          "Örebro/Örebro",
          "Örebro/Örebro",
          "Jönköping/Nässjö",
          "Kalmar/Broakulla",
          "Norrbotten/Boden",
          "Stockholm/Stockholm",
          "Stockholm/Stockholm",
          "Västerbotten/Umeå",
          "Stockholm/Stockholm",
          "Skåne/Malmö",
          "Västra Götaland/Göteborg",
          "Stockholm/Skärholmen",
          "Uppsala/Uppsala",
          "Stockholm/Stockholm",
          "Västra Götaland/Göteborg",
          "Skåne/Malmö",
          "Västra Götaland/Kungälv",
          "Stockholm/Stockholm",
          "Västerbotten/Umeå",
          "Västra Götaland/Göteborg",
          "Skåne/Helsingborg",
          "Skåne/Malmö",
          "Jämtland/Östersund",
          "Blekinge/Karlskrona",
          "Stockholm/Jordbro",
          "Skåne/Lund",
          "Stockholm/Solna",
          "Stockholm/Globen",
          "Västra Götaland/Västra Frölunda",
          "Västra Götaland/Göteborg",
          "Västra Götaland/Mölnlycke",
          "Jönköping/Jönköping",
          "Västra Götaland/Göteborg",
          "Stockholm/Solna",
          "Stockholm/Nynäshamn",
          "Västra Götaland/Göteborg",
          "Skåne/Helsingborg",
          "Västra Götaland/Svenljunga",
          "Skåne/Malmö",
          "Stockholm/Stockholm",
          "Värmland/Arvika",
          "Skåne/Helsingborg",
          "Västerbotten/Skellefteå",
          "Stockholm/Stockholm",
          "Värmland/Karlstad",
          "Västerbotten/Umeå",
          "Norrbotten/Jokkmokk",
          "Norrbotten/Luleå",
          "Skåne/Lund",
          "Örebro/Örebro",
          "Skåne/Malmö",
          "Västra Götaland/Göteborg",
          "Stockholm/Solna",
          "Kalmar/Färjestaden",
          "Jönköping/Värnamo",
          "Stockholm/Stockholm",
          "Stockholm/Stockholm",
          "Skåne/Malmö",
          "Skåne/Malmö",
          "Stockholm/Järna",
          "Skåne/Malmö",
          "Västernorrland/Sundsvall",
          "Stockholm/Järfälla",
          "Örebro/Örebro",
          "Jönköping/Habo",
          "Östergötland/Norrköping",
          "Västmanland/Västerås",
          "Södermanland/Katrineholm",
          "Gävleborg/Gävle",
          "Stockholm/Stockholm",
          "Skåne",
          "Stockholm",
          "Västra Götaland",
          "Halland",
          "Västra Götaland",
          "Gävleborg",
          "Stockholm",
          "Skåne",
          "Skåne",
          "Blekinge",
          "Västerbotten",
          "Jämtland",
          "Västra Götaland",
          "Norrbotten",
          "Västernorrland",
          "Kronoberg",
          "Skåne",
          "Örebro",
          "Jönköping",
          "Norrbotten",
          "Västmanland",
          "Kronoberg",
          "Örebro",
          "Örebro",
          "Stockholm",
          "Stockholm",
          "Västra Götaland",
          "Dalarna",
          "Skåne",
          "Västra Götaland",
          "Stockholm",
          "Västerbotten",
          "Östergötland",
          "Västra Götaland",
          "Jönköping",
          "Stockholm",
          "Skåne",
          "Västernorrland",
          "Västra Götaland",
          "Uppsala",
          "Uppsala",
          "Kalmar",
          "Skåne",
          "Södermanland",
          "Jönköping",
          "Stockholm",
          "Skåne",
          "Västra Götaland",
          "Västerbotten",
          "Västra Götaland",
          "Västernorrland",
          "Östergötland",
          "Uppsala",
          "Örebro",
          "Västra Götaland",
          "Skåne",
          "Västmanland",
          "Västra Götaland",
          "Västernorrland",
          "Gävleborg",
          "Skåne",
          "Västra Götaland",
          "Värmland",
          "Gävleborg",
          "Skåne",
          "Västmanland",
          "Stockholm",
          "Kronoberg",
          "Värmland",
          "Halland",
          "Södermanland",
          "Kalmar",
          "Norrbotten",
          "Stockholm",
          "Västra Götaland",
          "Jämtland",
          "Stockholm",
          "Västra Götaland",
          "Jönköping",
          "Stockholm",
          "Västra Götaland",
          "Värmland",
          "Värmland",
          "Norrbotten",
          "Kalmar",
          "Jönköping",
          "Stockholm",
          "Stockholm",
          "Jönköping",
          "Södermanland",
          "",
          "",
          "",
          "",
          "",
          "",
          "",
          "",
          "",
          "",
          "",
          "",
          "",
          "",
          "",
          "",
          "",
          "",
          "",
          ""
         ],
         "type": "sunburst",
         "values": {
          "bdata": "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",
          "dtype": "f8"
         }
        }
       ],
       "layout": {
        "legend": {
         "tracegroupgap": 0
        },
        "template": {
         "data": {
          "bar": [
           {
            "error_x": {
             "color": "#2a3f5f"
            },
            "error_y": {
             "color": "#2a3f5f"
            },
            "marker": {
             "line": {
              "color": "#E5ECF6",
              "width": 0.5
             },
             "pattern": {
              "fillmode": "overlay",
              "size": 10,
              "solidity": 0.2
             }
            },
            "type": "bar"
           }
          ],
          "barpolar": [
           {
            "marker": {
             "line": {
              "color": "#E5ECF6",
              "width": 0.5
             },
             "pattern": {
              "fillmode": "overlay",
              "size": 10,
              "solidity": 0.2
             }
            },
            "type": "barpolar"
           }
          ],
          "carpet": [
           {
            "aaxis": {
             "endlinecolor": "#2a3f5f",
             "gridcolor": "white",
             "linecolor": "white",
             "minorgridcolor": "white",
             "startlinecolor": "#2a3f5f"
            },
            "baxis": {
             "endlinecolor": "#2a3f5f",
             "gridcolor": "white",
             "linecolor": "white",
             "minorgridcolor": "white",
             "startlinecolor": "#2a3f5f"
            },
            "type": "carpet"
           }
          ],
          "choropleth": [
           {
            "colorbar": {
             "outlinewidth": 0,
             "ticks": ""
            },
            "type": "choropleth"
           }
          ],
          "contour": [
           {
            "colorbar": {
             "outlinewidth": 0,
             "ticks": ""
            },
            "colorscale": [
             [
              0,
              "#0d0887"
             ],
             [
              0.1111111111111111,
              "#46039f"
             ],
             [
              0.2222222222222222,
              "#7201a8"
             ],
             [
              0.3333333333333333,
              "#9c179e"
             ],
             [
              0.4444444444444444,
              "#bd3786"
             ],
             [
              0.5555555555555556,
              "#d8576b"
             ],
             [
              0.6666666666666666,
              "#ed7953"
             ],
             [
              0.7777777777777778,
              "#fb9f3a"
             ],
             [
              0.8888888888888888,
              "#fdca26"
             ],
             [
              1,
              "#f0f921"
             ]
            ],
            "type": "contour"
           }
          ],
          "contourcarpet": [
           {
            "colorbar": {
             "outlinewidth": 0,
             "ticks": ""
            },
            "type": "contourcarpet"
           }
          ],
          "heatmap": [
           {
            "colorbar": {
             "outlinewidth": 0,
             "ticks": ""
            },
            "colorscale": [
             [
              0,
              "#0d0887"
             ],
             [
              0.1111111111111111,
              "#46039f"
             ],
             [
              0.2222222222222222,
              "#7201a8"
             ],
             [
              0.3333333333333333,
              "#9c179e"
             ],
             [
              0.4444444444444444,
              "#bd3786"
             ],
             [
              0.5555555555555556,
              "#d8576b"
             ],
             [
              0.6666666666666666,
              "#ed7953"
             ],
             [
              0.7777777777777778,
              "#fb9f3a"
             ],
             [
              0.8888888888888888,
              "#fdca26"
             ],
             [
              1,
              "#f0f921"
             ]
            ],
            "type": "heatmap"
           }
          ],
          "histogram": [
           {
            "marker": {
             "pattern": {
              "fillmode": "overlay",
              "size": 10,
              "solidity": 0.2
             }
            },
            "type": "histogram"
           }
          ],
          "histogram2d": [
           {
            "colorbar": {
             "outlinewidth": 0,
             "ticks": ""
            },
            "colorscale": [
             [
              0,
              "#0d0887"
             ],
             [
              0.1111111111111111,
              "#46039f"
             ],
             [
              0.2222222222222222,
              "#7201a8"
             ],
             [
              0.3333333333333333,
              "#9c179e"
             ],
             [
              0.4444444444444444,
              "#bd3786"
             ],
             [
              0.5555555555555556,
              "#d8576b"
             ],
             [
              0.6666666666666666,
              "#ed7953"
             ],
             [
              0.7777777777777778,
              "#fb9f3a"
             ],
             [
              0.8888888888888888,
              "#fdca26"
             ],
             [
              1,
              "#f0f921"
             ]
            ],
            "type": "histogram2d"
           }
          ],
          "histogram2dcontour": [
           {
            "colorbar": {
             "outlinewidth": 0,
             "ticks": ""
            },
            "colorscale": [
             [
              0,
              "#0d0887"
             ],
             [
              0.1111111111111111,
              "#46039f"
             ],
             [
              0.2222222222222222,
              "#7201a8"
             ],
             [
              0.3333333333333333,
              "#9c179e"
             ],
             [
              0.4444444444444444,
              "#bd3786"
             ],
             [
              0.5555555555555556,
              "#d8576b"
             ],
             [
              0.6666666666666666,
              "#ed7953"
             ],
             [
              0.7777777777777778,
              "#fb9f3a"
             ],
             [
              0.8888888888888888,
              "#fdca26"
             ],
             [
              1,
              "#f0f921"
             ]
            ],
            "type": "histogram2dcontour"
           }
          ],
          "mesh3d": [
           {
            "colorbar": {
             "outlinewidth": 0,
             "ticks": ""
            },
            "type": "mesh3d"
           }
          ],
          "parcoords": [
           {
            "line": {
             "colorbar": {
              "outlinewidth": 0,
              "ticks": ""
             }
            },
            "type": "parcoords"
           }
          ],
          "pie": [
           {
            "automargin": true,
            "type": "pie"
           }
          ],
          "scatter": [
           {
            "fillpattern": {
             "fillmode": "overlay",
             "size": 10,
             "solidity": 0.2
            },
            "type": "scatter"
           }
          ],
          "scatter3d": [
           {
            "line": {
             "colorbar": {
              "outlinewidth": 0,
              "ticks": ""
             }
            },
            "marker": {
             "colorbar": {
              "outlinewidth": 0,
              "ticks": ""
             }
            },
            "type": "scatter3d"
           }
          ],
          "scattercarpet": [
           {
            "marker": {
             "colorbar": {
              "outlinewidth": 0,
              "ticks": ""
             }
            },
            "type": "scattercarpet"
           }
          ],
          "scattergeo": [
           {
            "marker": {
             "colorbar": {
              "outlinewidth": 0,
              "ticks": ""
             }
            },
            "type": "scattergeo"
           }
          ],
          "scattergl": [
           {
            "marker": {
             "colorbar": {
              "outlinewidth": 0,
              "ticks": ""
             }
            },
            "type": "scattergl"
           }
          ],
          "scattermap": [
           {
            "marker": {
             "colorbar": {
              "outlinewidth": 0,
              "ticks": ""
             }
            },
            "type": "scattermap"
           }
          ],
          "scattermapbox": [
           {
            "marker": {
             "colorbar": {
              "outlinewidth": 0,
              "ticks": ""
             }
            },
            "type": "scattermapbox"
           }
          ],
          "scatterpolar": [
           {
            "marker": {
             "colorbar": {
              "outlinewidth": 0,
              "ticks": ""
             }
            },
            "type": "scatterpolar"
           }
          ],
          "scatterpolargl": [
           {
            "marker": {
             "colorbar": {
              "outlinewidth": 0,
              "ticks": ""
             }
            },
            "type": "scatterpolargl"
           }
          ],
          "scatterternary": [
           {
            "marker": {
             "colorbar": {
              "outlinewidth": 0,
              "ticks": ""
             }
            },
            "type": "scatterternary"
           }
          ],
          "surface": [
           {
            "colorbar": {
             "outlinewidth": 0,
             "ticks": ""
            },
            "colorscale": [
             [
              0,
              "#0d0887"
             ],
             [
              0.1111111111111111,
              "#46039f"
             ],
             [
              0.2222222222222222,
              "#7201a8"
             ],
             [
              0.3333333333333333,
              "#9c179e"
             ],
             [
              0.4444444444444444,
              "#bd3786"
             ],
             [
              0.5555555555555556,
              "#d8576b"
             ],
             [
              0.6666666666666666,
              "#ed7953"
             ],
             [
              0.7777777777777778,
              "#fb9f3a"
             ],
             [
              0.8888888888888888,
              "#fdca26"
             ],
             [
              1,
              "#f0f921"
             ]
            ],
            "type": "surface"
           }
          ],
          "table": [
           {
            "cells": {
             "fill": {
              "color": "#EBF0F8"
             },
             "line": {
              "color": "white"
             }
            },
            "header": {
             "fill": {
              "color": "#C8D4E3"
             },
             "line": {
              "color": "white"
             }
            },
            "type": "table"
           }
          ]
         },
         "layout": {
          "annotationdefaults": {
           "arrowcolor": "#2a3f5f",
           "arrowhead": 0,
           "arrowwidth": 1
          },
          "autotypenumbers": "strict",
          "coloraxis": {
           "colorbar": {
            "outlinewidth": 0,
            "ticks": ""
           }
          },
          "colorscale": {
           "diverging": [
            [
             0,
             "#8e0152"
            ],
            [
             0.1,
             "#c51b7d"
            ],
            [
             0.2,
             "#de77ae"
            ],
            [
             0.3,
             "#f1b6da"
            ],
            [
             0.4,
             "#fde0ef"
            ],
            [
             0.5,
             "#f7f7f7"
            ],
            [
             0.6,
             "#e6f5d0"
            ],
            [
             0.7,
             "#b8e186"
            ],
            [
             0.8,
             "#7fbc41"
            ],
            [
             0.9,
             "#4d9221"
            ],
            [
             1,
             "#276419"
            ]
           ],
           "sequential": [
            [
             0,
             "#0d0887"
            ],
            [
             0.1111111111111111,
             "#46039f"
            ],
            [
             0.2222222222222222,
             "#7201a8"
            ],
            [
             0.3333333333333333,
             "#9c179e"
            ],
            [
             0.4444444444444444,
             "#bd3786"
            ],
            [
             0.5555555555555556,
             "#d8576b"
            ],
            [
             0.6666666666666666,
             "#ed7953"
            ],
            [
             0.7777777777777778,
             "#fb9f3a"
            ],
            [
             0.8888888888888888,
             "#fdca26"
            ],
            [
             1,
             "#f0f921"
            ]
           ],
           "sequentialminus": [
            [
             0,
             "#0d0887"
            ],
            [
             0.1111111111111111,
             "#46039f"
            ],
            [
             0.2222222222222222,
             "#7201a8"
            ],
            [
             0.3333333333333333,
             "#9c179e"
            ],
            [
             0.4444444444444444,
             "#bd3786"
            ],
            [
             0.5555555555555556,
             "#d8576b"
            ],
            [
             0.6666666666666666,
             "#ed7953"
            ],
            [
             0.7777777777777778,
             "#fb9f3a"
            ],
            [
             0.8888888888888888,
             "#fdca26"
            ],
            [
             1,
             "#f0f921"
            ]
           ]
          },
          "colorway": [
           "#636efa",
           "#EF553B",
           "#00cc96",
           "#ab63fa",
           "#FFA15A",
           "#19d3f3",
           "#FF6692",
           "#B6E880",
           "#FF97FF",
           "#FECB52"
          ],
          "font": {
           "color": "#2a3f5f"
          },
          "geo": {
           "bgcolor": "white",
           "lakecolor": "white",
           "landcolor": "#E5ECF6",
           "showlakes": true,
           "showland": true,
           "subunitcolor": "white"
          },
          "hoverlabel": {
           "align": "left"
          },
          "hovermode": "closest",
          "mapbox": {
           "style": "light"
          },
          "paper_bgcolor": "white",
          "plot_bgcolor": "#E5ECF6",
          "polar": {
           "angularaxis": {
            "gridcolor": "white",
            "linecolor": "white",
            "ticks": ""
           },
           "bgcolor": "#E5ECF6",
           "radialaxis": {
            "gridcolor": "white",
            "linecolor": "white",
            "ticks": ""
           }
          },
          "scene": {
           "xaxis": {
            "backgroundcolor": "#E5ECF6",
            "gridcolor": "white",
            "gridwidth": 2,
            "linecolor": "white",
            "showbackground": true,
            "ticks": "",
            "zerolinecolor": "white"
           },
           "yaxis": {
            "backgroundcolor": "#E5ECF6",
            "gridcolor": "white",
            "gridwidth": 2,
            "linecolor": "white",
            "showbackground": true,
            "ticks": "",
            "zerolinecolor": "white"
           },
           "zaxis": {
            "backgroundcolor": "#E5ECF6",
            "gridcolor": "white",
            "gridwidth": 2,
            "linecolor": "white",
            "showbackground": true,
            "ticks": "",
            "zerolinecolor": "white"
           }
          },
          "shapedefaults": {
           "line": {
            "color": "#2a3f5f"
           }
          },
          "ternary": {
           "aaxis": {
            "gridcolor": "white",
            "linecolor": "white",
            "ticks": ""
           },
           "baxis": {
            "gridcolor": "white",
            "linecolor": "white",
            "ticks": ""
           },
           "bgcolor": "#E5ECF6",
           "caxis": {
            "gridcolor": "white",
            "linecolor": "white",
            "ticks": ""
           }
          },
          "title": {
           "x": 0.05
          },
          "xaxis": {
           "automargin": true,
           "gridcolor": "white",
           "linecolor": "white",
           "ticks": "",
           "title": {
            "standoff": 15
           },
           "zerolinecolor": "white",
           "zerolinewidth": 2
          },
          "yaxis": {
           "automargin": true,
           "gridcolor": "white",
           "linecolor": "white",
           "ticks": "",
           "title": {
            "standoff": 15
           },
           "zerolinecolor": "white",
           "zerolinewidth": 2
          }
         }
        },
        "title": {
         "text": "Applied Places by Region and Provider (Kurser 2024)"
        }
       }
      }
     },
     "metadata": {},
     "output_type": "display_data"
    }
   ],
   "source": [
    "df_clean = df[df[\"Kommun\"] != 'Se \"Lista flera kommuner\"']\n",
    "\n",
    "fig = px.sunburst(df_clean,\n",
    "                  path=[\"Län\", \"Kommun\", \"Anordnare namn\"],\n",
    "                  values=\"Sökt antal platser 2024\",\n",
    "                  title=\"Applied Places by Region and Provider (Kurser 2024)\")\n",
    "fig.show()\n"
   ]
  },
  {
   "cell_type": "code",
   "execution_count": 18,
   "metadata": {},
   "outputs": [
    {
     "data": {
      "image/png": "[encoded data removed]",
      "text/plain": [
       "<Figure size 1400x800 with 1 Axes>"
      ]
     },
     "metadata": {},
     "output_type": "display_data"
    }
   ],
   "source": [
    "import pandas as pd\n",
    "import matplotlib.pyplot as plt\n",
    "import seaborn as sns\n",
    "\n",
    "df_students = pd.read_csv(\"../data/student/antal_behoriga_sokande_kurser_kon_omrade_alder_2020_2024.csv\", encoding=\"latin1\")\n",
    "\n",
    "# Filter relevant rows: total gender, all regions, total pace\n",
    "mask = (\n",
    "    (df_students[\"kön\"] == \"totalt\") &\n",
    "    (df_students[\"region (hemlän)\"] == \"Samtliga län\") &\n",
    "    (df_students[\"utbildningens studietakt\"] == \"Totalt\")\n",
    ")\n",
    "\n",
    "df_filtered = df_students[mask]\n",
    "\n",
    "# Melt years into a single column\n",
    "df_melted = df_filtered.melt(\n",
    "    id_vars=[\"utbildningsområde MYH\"],\n",
    "    value_vars=[\n",
    "        \"Antal behöriga sökande 2020\",\n",
    "        \"Antal behöriga sökande 2021\",\n",
    "        \"Antal behöriga sökande 2022\",\n",
    "        \"Antal behöriga sökande 2023\",\n",
    "        \"Antal behöriga sökande 2024\"\n",
    "    ],\n",
    "    var_name=\"År\",\n",
    "    value_name=\"Antal behöriga\"\n",
    ")\n",
    "\n",
    "# Clean year values\n",
    "df_melted[\"År\"] = df_melted[\"År\"].str.extract(r\"(\\d{4})\").astype(int)\n",
    "\n",
    "# Plot\n",
    "plt.figure(figsize=(14, 8))\n",
    "sns.lineplot(data=df_melted, x=\"År\", y=\"Antal behöriga\", hue=\"utbildningsområde MYH\", marker=\"o\")\n",
    "plt.title(\"Qualified Applicants Over Time by Education Area\")\n",
    "plt.xlabel(\"Year\")\n",
    "plt.ylabel(\"Number of Qualified Applicants\")\n",
    "plt.legend(title=\"Education Area\", bbox_to_anchor=(1.05, 1), loc='upper left')\n",
    "plt.tight_layout()\n",
    "plt.show()\n"
   ]
  }
 ],
 "metadata": {
  "kernelspec": {
   "display_name": "Python 3",
   "language": "python",
   "name": "python3"
  },
  "language_info": {
   "codemirror_mode": {
    "name": "ipython",
    "version": 3
   },
   "file_extension": ".py",
   "mimetype": "text/x-python",
   "name": "python",
   "nbconvert_exporter": "python",
   "pygments_lexer": "ipython3",
   "version": "3.11.9"
  }
 },
 "nbformat": 4,
 "nbformat_minor": 2
}
